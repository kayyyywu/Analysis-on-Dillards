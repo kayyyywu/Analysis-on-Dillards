{
 "cells": [
  {
   "cell_type": "code",
   "execution_count": 1,
   "id": "b2bc3734",
   "metadata": {},
   "outputs": [],
   "source": [
    "# Import libraries\n",
    "import pandas as pd"
   ]
  },
  {
   "cell_type": "code",
   "execution_count": 2,
   "id": "5a603991",
   "metadata": {},
   "outputs": [
    {
     "name": "stdout",
     "output_type": "stream",
     "text": [
      "   DEPT  DEPTDESC\n",
      "0   800  CLINIQUE\n",
      "1   801    LESLIE\n",
      "2  1100    GARY F\n",
      "3  1107   JACQUES\n",
      "4  1202    CABERN\n"
     ]
    }
   ],
   "source": [
    "deptinfo_df = pd.read_csv(r'../Dillards POS/deptinfo.csv', header = None)\n",
    "deptinfo_df = deptinfo_df.drop(columns=deptinfo_df.columns[-1])\n",
    "deptinfo_df.columns = ['DEPT', 'DEPTDESC']\n",
    "for i, v in enumerate(deptinfo_df.dtypes):\n",
    "    if v not in [int, float]:\n",
    "        deptinfo_df.iloc[:, i] = deptinfo_df.iloc[:, i].apply(lambda x: x.strip() if isinstance(x, str) else x)\n",
    "print(deptinfo_df.head())\n",
    "deptinfo_df.to_csv(r'../Dillards POS/clean_data/deptinfo_clean.csv', index=False)"
   ]
  },
  {
   "cell_type": "code",
   "execution_count": 3,
   "id": "6b6efd8a",
   "metadata": {},
   "outputs": [
    {
     "name": "stdout",
     "output_type": "stream",
     "text": [
      "   STORE            CITY STATE    ZIP\n",
      "0      2  ST. PETERSBURG    FL  33710\n",
      "1      3       ST. LOUIS    MO  63126\n",
      "2      4     LITTLE ROCK    AR  72201\n",
      "3      7      FORT WORTH    TX  76137\n",
      "4      9           TEMPE    AZ  85281\n"
     ]
    }
   ],
   "source": [
    "strinfo_df = pd.read_csv(r'../Dillards POS/strinfo.csv', header = None)\n",
    "strinfo_df = strinfo_df.drop(columns=strinfo_df.columns[-1])\n",
    "strinfo_df.columns = ['STORE', 'CITY', 'STATE', 'ZIP']\n",
    "for i, v in enumerate(strinfo_df.dtypes):\n",
    "    if v not in [int, float]:\n",
    "        strinfo_df.iloc[:, i] = strinfo_df.iloc[:, i].apply(lambda x: x.strip() if isinstance(x, str) else x)\n",
    "print(strinfo_df.head())\n",
    "strinfo_df.to_csv(r'../Dillards POS/clean_data/strinfo_clean.csv', index=False)"
   ]
  },
  {
   "cell_type": "code",
   "execution_count": 4,
   "id": "17e00247",
   "metadata": {},
   "outputs": [
    {
     "name": "stderr",
     "output_type": "stream",
     "text": [
      "/tmp/ipykernel_57541/1637673031.py:1: ParserWarning: Falling back to the 'python' engine because the 'c' engine does not support regex separators (separators > 1 char and different from '\\s+' are interpreted as regex); you can avoid this warning by specifying engine='python'.\n",
      "  skuinfo_df = pd.read_csv(r'../Dillards POS/skuinfo.csv', sep = \"delimiter\", header = None)\n"
     ]
    }
   ],
   "source": [
    "skuinfo_df = pd.read_csv(r'../Dillards POS/skuinfo.csv', sep = \"delimiter\", header = None)\n",
    "skuinfo_df_clean = skuinfo_df[skuinfo_df[0].apply(lambda x: x.count(',') == 10)]\n",
    "skuinfo_df_clean = skuinfo_df_clean[0].str.split(',', expand=True)\n",
    "skuinfo_df_clean = skuinfo_df_clean.drop(columns=skuinfo_df_clean.columns[-1])"
   ]
  },
  {
   "cell_type": "code",
   "execution_count": 5,
   "id": "ec56f511",
   "metadata": {},
   "outputs": [
    {
     "name": "stdout",
     "output_type": "stream",
     "text": [
      "0     int64\n",
      "1     int64\n",
      "2    object\n",
      "3    object\n",
      "4    object\n",
      "5    object\n",
      "6    object\n",
      "7     int64\n",
      "8    object\n",
      "9    object\n",
      "dtype: object\n"
     ]
    }
   ],
   "source": [
    "# Change data types\n",
    "skuinfo_df_clean[0] = skuinfo_df_clean[0].astype(int)\n",
    "skuinfo_df_clean[1] = skuinfo_df_clean[1].astype(int)\n",
    "skuinfo_df_clean[7] = skuinfo_df_clean[7].astype(int)\n",
    "for i, v in enumerate(skuinfo_df_clean.dtypes):\n",
    "    if v not in [int, float]:\n",
    "        skuinfo_df_clean.iloc[:, i] = skuinfo_df_clean.iloc[:, i].apply(lambda x: x.strip() if isinstance(x, str) else x)\n",
    "print(skuinfo_df_clean.dtypes)"
   ]
  },
  {
   "cell_type": "code",
   "execution_count": 6,
   "id": "bd6d0d49",
   "metadata": {},
   "outputs": [],
   "source": [
    "skuinfo_df_clean.columns = ['SKU', 'DEPT', 'CLASSID', 'UPC', 'STYLE', 'COLOR', 'SIZE', 'PACKSIZE', 'VENDOR', 'BRAND']\n",
    "skuinfo_df_clean.to_csv(r'../Dillards POS/clean_data/skuinfo_clean.csv', index=False)"
   ]
  },
  {
   "cell_type": "code",
   "execution_count": 7,
   "id": "7d65c6fb",
   "metadata": {},
   "outputs": [
    {
     "name": "stdout",
     "output_type": "stream",
     "text": [
      "SKU         int64\n",
      "STORE       int64\n",
      "COST      float64\n",
      "RETAIL    float64\n",
      "dtype: object\n"
     ]
    }
   ],
   "source": [
    "skstinfo_df = pd.read_csv(r'../Dillards POS/skstinfo.csv', header = None)\n",
    "skstinfo_df = skstinfo_df.drop(columns=skstinfo_df.columns[-1])\n",
    "skstinfo_df.columns = ['SKU', 'STORE', 'COST', 'RETAIL']\n",
    "print(skstinfo_df.dtypes)"
   ]
  },
  {
   "cell_type": "code",
   "execution_count": 8,
   "id": "ffb687b8",
   "metadata": {},
   "outputs": [
    {
     "data": {
      "text/plain": [
       "0"
      ]
     },
     "execution_count": 8,
     "metadata": {},
     "output_type": "execute_result"
    }
   ],
   "source": [
    "duplicates = skstinfo_df[skstinfo_df.duplicated(subset=['SKU', 'STORE'], keep=False)]\n",
    "len(duplicates)"
   ]
  },
  {
   "cell_type": "code",
   "execution_count": 9,
   "id": "81ee8cc8",
   "metadata": {},
   "outputs": [],
   "source": [
    "# Make sure 'SKU' in the 'skstinfo' table is present in the referenced table\n",
    "skstinfo_df_clean = skstinfo_df[skstinfo_df['SKU'].isin(skuinfo_df_clean['SKU'])]\n",
    "# Make sure 'STORE' in the 'skstinfo' table is present in the referenced table\n",
    "skstinfo_df_clean = skstinfo_df_clean[skstinfo_df_clean['STORE'].isin(strinfo_df['STORE'])]\n",
    "skstinfo_df_clean.to_csv(r'../Dillards POS/clean_data/skstinfo_clean.csv', index=False)"
   ]
  },
  {
   "cell_type": "code",
   "execution_count": 10,
   "id": "b031122a",
   "metadata": {},
   "outputs": [
    {
     "name": "stdout",
     "output_type": "stream",
     "text": [
      "Please provide your password: ········\n",
      "Connected.\n"
     ]
    }
   ],
   "source": [
    "import psycopg2\n",
    "import getpass\n",
    "import pandas.io.sql as psql\n",
    "\n",
    "password = getpass.getpass(\"Please provide your password: \")\n",
    "conn = psycopg2.connect(\n",
    "    host=\"pg.analytics.northwestern.edu\",\n",
    "    database=\"everything2023\",\n",
    "    user=\"bvt1891\", # change here!\n",
    "    password=password)\n",
    "print(\"Connected.\")\n",
    "cur = conn.cursor()"
   ]
  },
  {
   "cell_type": "code",
   "execution_count": 11,
   "id": "a7cb6046",
   "metadata": {},
   "outputs": [
    {
     "name": "stderr",
     "output_type": "stream",
     "text": [
      "/tmp/ipykernel_57541/4163816161.py:2: UserWarning: pandas only supports SQLAlchemy connectable (engine/connection) or database string URI or sqlite3 DBAPI2 connection. Other DBAPI2 objects are not tested. Please consider using SQLAlchemy.\n",
      "  df = psql.read_sql(query,conn)\n"
     ]
    },
    {
     "data": {
      "text/html": [
       "<div>\n",
       "<style scoped>\n",
       "    .dataframe tbody tr th:only-of-type {\n",
       "        vertical-align: middle;\n",
       "    }\n",
       "\n",
       "    .dataframe tbody tr th {\n",
       "        vertical-align: top;\n",
       "    }\n",
       "\n",
       "    .dataframe thead th {\n",
       "        text-align: right;\n",
       "    }\n",
       "</style>\n",
       "<table border=\"1\" class=\"dataframe\">\n",
       "  <thead>\n",
       "    <tr style=\"text-align: right;\">\n",
       "      <th></th>\n",
       "      <th>dept</th>\n",
       "      <th>deptdesc</th>\n",
       "    </tr>\n",
       "  </thead>\n",
       "  <tbody>\n",
       "    <tr>\n",
       "      <th>0</th>\n",
       "      <td>800</td>\n",
       "      <td>CLINIQUE</td>\n",
       "    </tr>\n",
       "    <tr>\n",
       "      <th>1</th>\n",
       "      <td>801</td>\n",
       "      <td>LESLIE</td>\n",
       "    </tr>\n",
       "    <tr>\n",
       "      <th>2</th>\n",
       "      <td>1100</td>\n",
       "      <td>GARY F</td>\n",
       "    </tr>\n",
       "    <tr>\n",
       "      <th>3</th>\n",
       "      <td>1107</td>\n",
       "      <td>JACQUES</td>\n",
       "    </tr>\n",
       "    <tr>\n",
       "      <th>4</th>\n",
       "      <td>1202</td>\n",
       "      <td>CABERN</td>\n",
       "    </tr>\n",
       "  </tbody>\n",
       "</table>\n",
       "</div>"
      ],
      "text/plain": [
       "   dept  deptdesc\n",
       "0   800  CLINIQUE\n",
       "1   801    LESLIE\n",
       "2  1100    GARY F\n",
       "3  1107   JACQUES\n",
       "4  1202    CABERN"
      ]
     },
     "execution_count": 11,
     "metadata": {},
     "output_type": "execute_result"
    }
   ],
   "source": [
    "query = \"\"\"SELECT * from group_4.deptinfo\"\"\"\n",
    "df = psql.read_sql(query,conn)\n",
    "df.head()"
   ]
  },
  {
   "cell_type": "code",
   "execution_count": 12,
   "id": "2fcad6c5",
   "metadata": {},
   "outputs": [
    {
     "name": "stderr",
     "output_type": "stream",
     "text": [
      "/tmp/ipykernel_57541/636336960.py:2: UserWarning: pandas only supports SQLAlchemy connectable (engine/connection) or database string URI or sqlite3 DBAPI2 connection. Other DBAPI2 objects are not tested. Please consider using SQLAlchemy.\n",
      "  df = psql.read_sql(query,conn)\n"
     ]
    },
    {
     "data": {
      "text/html": [
       "<div>\n",
       "<style scoped>\n",
       "    .dataframe tbody tr th:only-of-type {\n",
       "        vertical-align: middle;\n",
       "    }\n",
       "\n",
       "    .dataframe tbody tr th {\n",
       "        vertical-align: top;\n",
       "    }\n",
       "\n",
       "    .dataframe thead th {\n",
       "        text-align: right;\n",
       "    }\n",
       "</style>\n",
       "<table border=\"1\" class=\"dataframe\">\n",
       "  <thead>\n",
       "    <tr style=\"text-align: right;\">\n",
       "      <th></th>\n",
       "      <th>sku</th>\n",
       "      <th>store</th>\n",
       "      <th>register</th>\n",
       "      <th>trannum</th>\n",
       "      <th>interid</th>\n",
       "      <th>saledate</th>\n",
       "      <th>stype</th>\n",
       "      <th>quantity</th>\n",
       "      <th>orgprice</th>\n",
       "      <th>amt</th>\n",
       "      <th>seq</th>\n",
       "      <th>mic</th>\n",
       "    </tr>\n",
       "  </thead>\n",
       "  <tbody>\n",
       "    <tr>\n",
       "      <th>0</th>\n",
       "      <td>3</td>\n",
       "      <td>202</td>\n",
       "      <td>290</td>\n",
       "      <td>1100</td>\n",
       "      <td>326708721</td>\n",
       "      <td>2005-01-18</td>\n",
       "      <td>P</td>\n",
       "      <td>1</td>\n",
       "      <td>0.0</td>\n",
       "      <td>30.0</td>\n",
       "      <td>3500000</td>\n",
       "      <td>818</td>\n",
       "    </tr>\n",
       "    <tr>\n",
       "      <th>1</th>\n",
       "      <td>3</td>\n",
       "      <td>202</td>\n",
       "      <td>540</td>\n",
       "      <td>2700</td>\n",
       "      <td>326708721</td>\n",
       "      <td>2005-01-29</td>\n",
       "      <td>R</td>\n",
       "      <td>1</td>\n",
       "      <td>0.0</td>\n",
       "      <td>30.0</td>\n",
       "      <td>15200000</td>\n",
       "      <td>818</td>\n",
       "    </tr>\n",
       "    <tr>\n",
       "      <th>2</th>\n",
       "      <td>3</td>\n",
       "      <td>303</td>\n",
       "      <td>500</td>\n",
       "      <td>2100</td>\n",
       "      <td>23702074</td>\n",
       "      <td>2004-08-18</td>\n",
       "      <td>P</td>\n",
       "      <td>1</td>\n",
       "      <td>0.0</td>\n",
       "      <td>12.0</td>\n",
       "      <td>4600000</td>\n",
       "      <td>48</td>\n",
       "    </tr>\n",
       "    <tr>\n",
       "      <th>3</th>\n",
       "      <td>3</td>\n",
       "      <td>709</td>\n",
       "      <td>360</td>\n",
       "      <td>500</td>\n",
       "      <td>0</td>\n",
       "      <td>2005-08-14</td>\n",
       "      <td>P</td>\n",
       "      <td>1</td>\n",
       "      <td>0.0</td>\n",
       "      <td>30.0</td>\n",
       "      <td>6500000</td>\n",
       "      <td>818</td>\n",
       "    </tr>\n",
       "    <tr>\n",
       "      <th>4</th>\n",
       "      <td>3</td>\n",
       "      <td>802</td>\n",
       "      <td>660</td>\n",
       "      <td>400</td>\n",
       "      <td>0</td>\n",
       "      <td>2005-08-09</td>\n",
       "      <td>P</td>\n",
       "      <td>1</td>\n",
       "      <td>440.0</td>\n",
       "      <td>30.0</td>\n",
       "      <td>4700000</td>\n",
       "      <td>599</td>\n",
       "    </tr>\n",
       "  </tbody>\n",
       "</table>\n",
       "</div>"
      ],
      "text/plain": [
       "   sku  store  register  trannum    interid    saledate stype  quantity  \\\n",
       "0    3    202       290     1100  326708721  2005-01-18     P         1   \n",
       "1    3    202       540     2700  326708721  2005-01-29     R         1   \n",
       "2    3    303       500     2100   23702074  2004-08-18     P         1   \n",
       "3    3    709       360      500          0  2005-08-14     P         1   \n",
       "4    3    802       660      400          0  2005-08-09     P         1   \n",
       "\n",
       "   orgprice   amt       seq  mic  \n",
       "0       0.0  30.0   3500000  818  \n",
       "1       0.0  30.0  15200000  818  \n",
       "2       0.0  12.0   4600000   48  \n",
       "3       0.0  30.0   6500000  818  \n",
       "4     440.0  30.0   4700000  599  "
      ]
     },
     "execution_count": 12,
     "metadata": {},
     "output_type": "execute_result"
    }
   ],
   "source": [
    "query = \"\"\"SELECT * from group_4.trnsact LIMIT 100\"\"\"\n",
    "df = psql.read_sql(query,conn)\n",
    "df.head()"
   ]
  },
  {
   "cell_type": "code",
   "execution_count": 13,
   "id": "6679fa65",
   "metadata": {},
   "outputs": [
    {
     "name": "stderr",
     "output_type": "stream",
     "text": [
      "/tmp/ipykernel_57541/3918319790.py:2: UserWarning: pandas only supports SQLAlchemy connectable (engine/connection) or database string URI or sqlite3 DBAPI2 connection. Other DBAPI2 objects are not tested. Please consider using SQLAlchemy.\n",
      "  df = psql.read_sql(query,conn)\n"
     ]
    },
    {
     "data": {
      "text/html": [
       "<div>\n",
       "<style scoped>\n",
       "    .dataframe tbody tr th:only-of-type {\n",
       "        vertical-align: middle;\n",
       "    }\n",
       "\n",
       "    .dataframe tbody tr th {\n",
       "        vertical-align: top;\n",
       "    }\n",
       "\n",
       "    .dataframe thead th {\n",
       "        text-align: right;\n",
       "    }\n",
       "</style>\n",
       "<table border=\"1\" class=\"dataframe\">\n",
       "  <thead>\n",
       "    <tr style=\"text-align: right;\">\n",
       "      <th></th>\n",
       "      <th>store</th>\n",
       "      <th>city</th>\n",
       "      <th>state</th>\n",
       "      <th>zip</th>\n",
       "    </tr>\n",
       "  </thead>\n",
       "  <tbody>\n",
       "    <tr>\n",
       "      <th>0</th>\n",
       "      <td>2</td>\n",
       "      <td>ST. PETERSBURG</td>\n",
       "      <td>FL</td>\n",
       "      <td>33710</td>\n",
       "    </tr>\n",
       "    <tr>\n",
       "      <th>1</th>\n",
       "      <td>3</td>\n",
       "      <td>ST. LOUIS</td>\n",
       "      <td>MO</td>\n",
       "      <td>63126</td>\n",
       "    </tr>\n",
       "    <tr>\n",
       "      <th>2</th>\n",
       "      <td>4</td>\n",
       "      <td>LITTLE ROCK</td>\n",
       "      <td>AR</td>\n",
       "      <td>72201</td>\n",
       "    </tr>\n",
       "    <tr>\n",
       "      <th>3</th>\n",
       "      <td>7</td>\n",
       "      <td>FORT WORTH</td>\n",
       "      <td>TX</td>\n",
       "      <td>76137</td>\n",
       "    </tr>\n",
       "    <tr>\n",
       "      <th>4</th>\n",
       "      <td>9</td>\n",
       "      <td>TEMPE</td>\n",
       "      <td>AZ</td>\n",
       "      <td>85281</td>\n",
       "    </tr>\n",
       "  </tbody>\n",
       "</table>\n",
       "</div>"
      ],
      "text/plain": [
       "   store            city state    zip\n",
       "0      2  ST. PETERSBURG    FL  33710\n",
       "1      3       ST. LOUIS    MO  63126\n",
       "2      4     LITTLE ROCK    AR  72201\n",
       "3      7      FORT WORTH    TX  76137\n",
       "4      9           TEMPE    AZ  85281"
      ]
     },
     "execution_count": 13,
     "metadata": {},
     "output_type": "execute_result"
    }
   ],
   "source": [
    "query = \"\"\"SELECT * from group_4.strinfo LIMIT 100\"\"\"\n",
    "df = psql.read_sql(query,conn)\n",
    "df.head()"
   ]
  },
  {
   "cell_type": "code",
   "execution_count": 14,
   "id": "deb07414",
   "metadata": {},
   "outputs": [
    {
     "name": "stderr",
     "output_type": "stream",
     "text": [
      "/tmp/ipykernel_57541/1160443256.py:2: UserWarning: pandas only supports SQLAlchemy connectable (engine/connection) or database string URI or sqlite3 DBAPI2 connection. Other DBAPI2 objects are not tested. Please consider using SQLAlchemy.\n",
      "  df = psql.read_sql(query,conn)\n"
     ]
    },
    {
     "data": {
      "text/html": [
       "<div>\n",
       "<style scoped>\n",
       "    .dataframe tbody tr th:only-of-type {\n",
       "        vertical-align: middle;\n",
       "    }\n",
       "\n",
       "    .dataframe tbody tr th {\n",
       "        vertical-align: top;\n",
       "    }\n",
       "\n",
       "    .dataframe thead th {\n",
       "        text-align: right;\n",
       "    }\n",
       "</style>\n",
       "<table border=\"1\" class=\"dataframe\">\n",
       "  <thead>\n",
       "    <tr style=\"text-align: right;\">\n",
       "      <th></th>\n",
       "      <th>sku</th>\n",
       "      <th>store</th>\n",
       "      <th>cost</th>\n",
       "      <th>retail</th>\n",
       "    </tr>\n",
       "  </thead>\n",
       "  <tbody>\n",
       "    <tr>\n",
       "      <th>0</th>\n",
       "      <td>3</td>\n",
       "      <td>102</td>\n",
       "      <td>123.36</td>\n",
       "      <td>440.0</td>\n",
       "    </tr>\n",
       "    <tr>\n",
       "      <th>1</th>\n",
       "      <td>3</td>\n",
       "      <td>103</td>\n",
       "      <td>123.36</td>\n",
       "      <td>440.0</td>\n",
       "    </tr>\n",
       "    <tr>\n",
       "      <th>2</th>\n",
       "      <td>3</td>\n",
       "      <td>104</td>\n",
       "      <td>123.36</td>\n",
       "      <td>440.0</td>\n",
       "    </tr>\n",
       "    <tr>\n",
       "      <th>3</th>\n",
       "      <td>3</td>\n",
       "      <td>202</td>\n",
       "      <td>123.36</td>\n",
       "      <td>440.0</td>\n",
       "    </tr>\n",
       "    <tr>\n",
       "      <th>4</th>\n",
       "      <td>3</td>\n",
       "      <td>203</td>\n",
       "      <td>123.36</td>\n",
       "      <td>440.0</td>\n",
       "    </tr>\n",
       "  </tbody>\n",
       "</table>\n",
       "</div>"
      ],
      "text/plain": [
       "   sku  store    cost  retail\n",
       "0    3    102  123.36   440.0\n",
       "1    3    103  123.36   440.0\n",
       "2    3    104  123.36   440.0\n",
       "3    3    202  123.36   440.0\n",
       "4    3    203  123.36   440.0"
      ]
     },
     "execution_count": 14,
     "metadata": {},
     "output_type": "execute_result"
    }
   ],
   "source": [
    "query = \"\"\"SELECT * from group_4.skstinfo LIMIT 100\"\"\"\n",
    "df = psql.read_sql(query,conn)\n",
    "df.head()"
   ]
  },
  {
   "cell_type": "code",
   "execution_count": 15,
   "id": "7f659b7f",
   "metadata": {},
   "outputs": [
    {
     "name": "stderr",
     "output_type": "stream",
     "text": [
      "/tmp/ipykernel_57541/1530076766.py:2: UserWarning: pandas only supports SQLAlchemy connectable (engine/connection) or database string URI or sqlite3 DBAPI2 connection. Other DBAPI2 objects are not tested. Please consider using SQLAlchemy.\n",
      "  df = psql.read_sql(query,conn)\n"
     ]
    },
    {
     "data": {
      "text/html": [
       "<div>\n",
       "<style scoped>\n",
       "    .dataframe tbody tr th:only-of-type {\n",
       "        vertical-align: middle;\n",
       "    }\n",
       "\n",
       "    .dataframe tbody tr th {\n",
       "        vertical-align: top;\n",
       "    }\n",
       "\n",
       "    .dataframe thead th {\n",
       "        text-align: right;\n",
       "    }\n",
       "</style>\n",
       "<table border=\"1\" class=\"dataframe\">\n",
       "  <thead>\n",
       "    <tr style=\"text-align: right;\">\n",
       "      <th></th>\n",
       "      <th>sku</th>\n",
       "      <th>dept</th>\n",
       "      <th>classid</th>\n",
       "      <th>upc</th>\n",
       "      <th>style</th>\n",
       "      <th>color</th>\n",
       "      <th>size</th>\n",
       "      <th>packsize</th>\n",
       "      <th>vendor</th>\n",
       "      <th>brand</th>\n",
       "    </tr>\n",
       "  </thead>\n",
       "  <tbody>\n",
       "    <tr>\n",
       "      <th>0</th>\n",
       "      <td>3</td>\n",
       "      <td>6505</td>\n",
       "      <td>113</td>\n",
       "      <td>000400000003000</td>\n",
       "      <td>00    F55KT2</td>\n",
       "      <td>WHISPERWHITE</td>\n",
       "      <td>P8EA</td>\n",
       "      <td>1</td>\n",
       "      <td>5119207</td>\n",
       "      <td>TURNBURY</td>\n",
       "    </tr>\n",
       "    <tr>\n",
       "      <th>1</th>\n",
       "      <td>4</td>\n",
       "      <td>8101</td>\n",
       "      <td>002</td>\n",
       "      <td>000400000004000</td>\n",
       "      <td>22    615CZ4</td>\n",
       "      <td>SPEARMI</td>\n",
       "      <td>S</td>\n",
       "      <td>1</td>\n",
       "      <td>3311144</td>\n",
       "      <td>C A SPOR</td>\n",
       "    </tr>\n",
       "    <tr>\n",
       "      <th>2</th>\n",
       "      <td>5</td>\n",
       "      <td>7307</td>\n",
       "      <td>003</td>\n",
       "      <td>000400000005000</td>\n",
       "      <td>7LBS  245-01</td>\n",
       "      <td>34 SILVER</td>\n",
       "      <td>KING</td>\n",
       "      <td>1</td>\n",
       "      <td>5510554</td>\n",
       "      <td>BEAU IDE</td>\n",
       "    </tr>\n",
       "    <tr>\n",
       "      <th>3</th>\n",
       "      <td>8</td>\n",
       "      <td>3404</td>\n",
       "      <td>00B</td>\n",
       "      <td>000400000008000</td>\n",
       "      <td>622   F05H84</td>\n",
       "      <td>MORNING MI</td>\n",
       "      <td>2T</td>\n",
       "      <td>1</td>\n",
       "      <td>2912827</td>\n",
       "      <td>HARTSTRI</td>\n",
       "    </tr>\n",
       "    <tr>\n",
       "      <th>4</th>\n",
       "      <td>15</td>\n",
       "      <td>2301</td>\n",
       "      <td>004</td>\n",
       "      <td>000400000015000</td>\n",
       "      <td>126   MDU461</td>\n",
       "      <td>255CAMEL</td>\n",
       "      <td>12</td>\n",
       "      <td>1</td>\n",
       "      <td>0023272</td>\n",
       "      <td>JONES/LA</td>\n",
       "    </tr>\n",
       "    <tr>\n",
       "      <th>...</th>\n",
       "      <td>...</td>\n",
       "      <td>...</td>\n",
       "      <td>...</td>\n",
       "      <td>...</td>\n",
       "      <td>...</td>\n",
       "      <td>...</td>\n",
       "      <td>...</td>\n",
       "      <td>...</td>\n",
       "      <td>...</td>\n",
       "      <td>...</td>\n",
       "    </tr>\n",
       "    <tr>\n",
       "      <th>95</th>\n",
       "      <td>422</td>\n",
       "      <td>801</td>\n",
       "      <td>204</td>\n",
       "      <td>000400000422000</td>\n",
       "      <td>09    5280M7</td>\n",
       "      <td>013BLACK/WHI</td>\n",
       "      <td>14</td>\n",
       "      <td>1</td>\n",
       "      <td>1616222</td>\n",
       "      <td>TAHARI/A</td>\n",
       "    </tr>\n",
       "    <tr>\n",
       "      <th>96</th>\n",
       "      <td>423</td>\n",
       "      <td>2102</td>\n",
       "      <td>973</td>\n",
       "      <td>000400000423000</td>\n",
       "      <td>R524</td>\n",
       "      <td>VANILLA</td>\n",
       "      <td>38D</td>\n",
       "      <td>1</td>\n",
       "      <td>9520439</td>\n",
       "      <td>DIM</td>\n",
       "    </tr>\n",
       "    <tr>\n",
       "      <th>97</th>\n",
       "      <td>425</td>\n",
       "      <td>2200</td>\n",
       "      <td>009</td>\n",
       "      <td>000400000425000</td>\n",
       "      <td>0771</td>\n",
       "      <td>00-S'03</td>\n",
       "      <td>NO SIZE</td>\n",
       "      <td>1</td>\n",
       "      <td>0113645</td>\n",
       "      <td>LANCOME</td>\n",
       "    </tr>\n",
       "    <tr>\n",
       "      <th>98</th>\n",
       "      <td>426</td>\n",
       "      <td>2200</td>\n",
       "      <td>009</td>\n",
       "      <td>000400000426000</td>\n",
       "      <td>0768</td>\n",
       "      <td>02-VIOLET</td>\n",
       "      <td>NO SIZE</td>\n",
       "      <td>1</td>\n",
       "      <td>0113645</td>\n",
       "      <td>LANCOME</td>\n",
       "    </tr>\n",
       "    <tr>\n",
       "      <th>99</th>\n",
       "      <td>427</td>\n",
       "      <td>5305</td>\n",
       "      <td>157</td>\n",
       "      <td>000400000427000</td>\n",
       "      <td>15    MERU32</td>\n",
       "      <td>BLACK</td>\n",
       "      <td>L    ND</td>\n",
       "      <td>1</td>\n",
       "      <td>5531254</td>\n",
       "      <td>LIZ CLAI</td>\n",
       "    </tr>\n",
       "  </tbody>\n",
       "</table>\n",
       "<p>100 rows × 10 columns</p>\n",
       "</div>"
      ],
      "text/plain": [
       "    sku  dept classid              upc         style         color     size  \\\n",
       "0     3  6505     113  000400000003000  00    F55KT2  WHISPERWHITE     P8EA   \n",
       "1     4  8101     002  000400000004000  22    615CZ4       SPEARMI        S   \n",
       "2     5  7307     003  000400000005000  7LBS  245-01     34 SILVER     KING   \n",
       "3     8  3404     00B  000400000008000  622   F05H84    MORNING MI       2T   \n",
       "4    15  2301     004  000400000015000  126   MDU461      255CAMEL       12   \n",
       "..  ...   ...     ...              ...           ...           ...      ...   \n",
       "95  422   801     204  000400000422000  09    5280M7  013BLACK/WHI       14   \n",
       "96  423  2102     973  000400000423000          R524       VANILLA      38D   \n",
       "97  425  2200     009  000400000425000          0771       00-S'03  NO SIZE   \n",
       "98  426  2200     009  000400000426000          0768     02-VIOLET  NO SIZE   \n",
       "99  427  5305     157  000400000427000  15    MERU32         BLACK  L    ND   \n",
       "\n",
       "    packsize   vendor     brand  \n",
       "0          1  5119207  TURNBURY  \n",
       "1          1  3311144  C A SPOR  \n",
       "2          1  5510554  BEAU IDE  \n",
       "3          1  2912827  HARTSTRI  \n",
       "4          1  0023272  JONES/LA  \n",
       "..       ...      ...       ...  \n",
       "95         1  1616222  TAHARI/A  \n",
       "96         1  9520439       DIM  \n",
       "97         1  0113645   LANCOME  \n",
       "98         1  0113645   LANCOME  \n",
       "99         1  5531254  LIZ CLAI  \n",
       "\n",
       "[100 rows x 10 columns]"
      ]
     },
     "execution_count": 15,
     "metadata": {},
     "output_type": "execute_result"
    }
   ],
   "source": [
    "query = \"\"\"SELECT * from group_4.skuinfo LIMIT 100\"\"\"\n",
    "df = psql.read_sql(query,conn)\n",
    "df"
   ]
  }
 ],
 "metadata": {
  "kernelspec": {
   "display_name": "Python 3 (ipykernel)",
   "language": "python",
   "name": "python3"
  },
  "language_info": {
   "codemirror_mode": {
    "name": "ipython",
    "version": 3
   },
   "file_extension": ".py",
   "mimetype": "text/x-python",
   "name": "python",
   "nbconvert_exporter": "python",
   "pygments_lexer": "ipython3",
   "version": "3.11.5"
  }
 },
 "nbformat": 4,
 "nbformat_minor": 5
}
